{
 "cells": [
  {
   "cell_type": "markdown",
   "id": "3145cbc7",
   "metadata": {},
   "source": [
    "Project 2- Prediction of Marks using Data Science "
   ]
  },
  {
   "cell_type": "markdown",
   "id": "6603165f",
   "metadata": {},
   "source": [
    "1) Importing Required Modules"
   ]
  },
  {
   "cell_type": "code",
   "execution_count": 28,
   "id": "686b8f41",
   "metadata": {},
   "outputs": [],
   "source": [
    "import pandas as pd #this helps in creating datfarames and reading data that we get from the csv files\n",
    "import numpy as np #this helps in many numerical and array related operations used at the end\n",
    "import matplotlib.pyplot as plot #this helps in plotting graphs using the given data"
   ]
  },
  {
   "cell_type": "markdown",
   "id": "f5a7a3ce",
   "metadata": {},
   "source": [
    "2) Importing Data from given URL"
   ]
  },
  {
   "cell_type": "code",
   "execution_count": 29,
   "id": "71a9403b",
   "metadata": {},
   "outputs": [
    {
     "name": "stdout",
     "output_type": "stream",
     "text": [
      "DATA IMPORTED\n",
      "Size of Given Data: (25, 2)\n",
      "Given Data:\n",
      "     Hours  Scores\n",
      "0     2.5      21\n",
      "1     5.1      47\n",
      "2     3.2      27\n",
      "3     8.5      75\n",
      "4     3.5      30\n",
      "5     1.5      20\n",
      "6     9.2      88\n",
      "7     5.5      60\n",
      "8     8.3      81\n",
      "9     2.7      25\n",
      "10    7.7      85\n",
      "11    5.9      62\n",
      "12    4.5      41\n",
      "13    3.3      42\n",
      "14    1.1      17\n",
      "15    8.9      95\n",
      "16    2.5      30\n",
      "17    1.9      24\n",
      "18    6.1      67\n",
      "19    7.4      69\n",
      "20    2.7      30\n",
      "21    4.8      54\n",
      "22    3.8      35\n",
      "23    6.9      76\n",
      "24    7.8      86\n"
     ]
    }
   ],
   "source": [
    "url = \"http://bit.ly/w-data\" #URL for data\n",
    "s_data = pd.read_csv(url) #reading the data and storing in s_data\n",
    "print(\"DATA IMPORTED\") #prints when data is successfully imported\n",
    "print (\"Size of Given Data:\", s_data.shape) #displays size of data\n",
    "print(\"Given Data:\\n\", s_data.head(25)) #prints the data in tabular form"
   ]
  },
  {
   "cell_type": "markdown",
   "id": "66e7e5f7",
   "metadata": {},
   "source": [
    "3) Plotting given Data"
   ]
  },
  {
   "cell_type": "code",
   "execution_count": 30,
   "id": "c92678a5",
   "metadata": {},
   "outputs": [
    {
     "data": {
      "image/png": "[encoded data removed]",
      "text/plain": [
       "<Figure size 432x288 with 1 Axes>"
      ]
     },
     "metadata": {
      "needs_background": "light"
     },
     "output_type": "display_data"
    }
   ],
   "source": [
    "s_data.plot(x=\"Hours\", y=\"Scores\", style=\"x\") #ascertains what is to be plotted from the table on the x and y axes, and also the pattern for the plot\n",
    "plot.title(\"Hours V/S Percentage\") #title of the graph\n",
    "plot.xlabel(\"Hours Studied\") #x-axis label\n",
    "plot.ylabel(\"Percentage Scores\") #y-axis label\n",
    "plot.show() #displays the graph"
   ]
  },
  {
   "cell_type": "markdown",
   "id": "5bf86ec8",
   "metadata": {},
   "source": [
    "4) Storing Data in separate variables"
   ]
  },
  {
   "cell_type": "code",
   "execution_count": 31,
   "id": "647b6523",
   "metadata": {},
   "outputs": [
    {
     "name": "stdout",
     "output_type": "stream",
     "text": [
      "Size of X: (25, 1)\n",
      "Size of Y: (25,)\n"
     ]
    }
   ],
   "source": [
    "X=s_data.iloc[:, :-1].values #storing the hours values in X (in 2D array form, or else prediction cannot be done)\n",
    "Y=s_data.iloc[:, -1].values #storing the scores values in Y\n",
    "print(\"Size of X:\", X.shape) #to show that X is in the 2D form\n",
    "print(\"Size of Y:\", Y.shape) #shows the dimensions of Y"
   ]
  },
  {
   "cell_type": "markdown",
   "id": "f4a29919",
   "metadata": {},
   "source": [
    "5) Dividing the data for training"
   ]
  },
  {
   "cell_type": "code",
   "execution_count": 32,
   "id": "81c89b50",
   "metadata": {},
   "outputs": [
    {
     "name": "stdout",
     "output_type": "stream",
     "text": [
      "List of Data(X) used as test data:\n",
      " [[1.5]\n",
      " [3.2]\n",
      " [7.4]\n",
      " [2.5]\n",
      " [5.9]]\n"
     ]
    }
   ],
   "source": [
    "from sklearn.model_selection import train_test_split #importing the train_test_split to divide the given data into training part and testing part\n",
    "X_train, X_test, Y_train, Y_test = train_test_split(X, Y, test_size=0.2, random_state=0) #stating how many entries are to be trained and how many to be used for testing\n",
    "print(\"List of Data(X) used as test data:\\n\", X_test) #to display the data which will be used for testing"
   ]
  },
  {
   "cell_type": "markdown",
   "id": "0e2c03ce",
   "metadata": {},
   "source": [
    "6) Using the training model to find line of best fit, and comparing it with given data"
   ]
  },
  {
   "cell_type": "code",
   "execution_count": 33,
   "id": "555df793",
   "metadata": {},
   "outputs": [
    {
     "data": {
      "image/png": "[encoded data removed]",
      "text/plain": [
       "<Figure size 432x288 with 1 Axes>"
      ]
     },
     "metadata": {
      "needs_background": "light"
     },
     "output_type": "display_data"
    },
    {
     "name": "stdout",
     "output_type": "stream",
     "text": [
      "Slope of line: 9.910656480642237\n",
      "Intercept on Y-axis: 2.018160041434683\n"
     ]
    }
   ],
   "source": [
    "from sklearn.linear_model import LinearRegression #importing Linear Regression to find best fit line\n",
    "regressor = LinearRegression() #creating object regressor for class LinearRegression()\n",
    "regressor.fit(X_train, Y_train) #using fit function to create the line of best fit\n",
    "line= regressor.coef_*X+regressor.intercept_ #using the returned variables to create line using y=mx+c formula\n",
    "plot.scatter(X, Y) #creates a scattered plot of our original given data\n",
    "plot.plot(X, line) #plots a graph of the line of best fit\n",
    "plot.title(\"Comparison\") #title of graph\n",
    "plot.xlabel(\"Hours Studied\") #x-axis label\n",
    "plot.ylabel(\"Percentage Scores\") #y-axis label\n",
    "plot.show() #displays the graph\n",
    "print(\"Slope of line:\", regressor.coef_[0]) #shows slope of line of best fit\n",
    "print(\"Intercept on Y-axis:\", regressor.intercept_) #shows y-intercept of line of best fit"
   ]
  },
  {
   "cell_type": "markdown",
   "id": "b1165804",
   "metadata": {},
   "source": [
    "7) Showing the difference between actual values and predicted values of the test data"
   ]
  },
  {
   "cell_type": "code",
   "execution_count": 34,
   "id": "83334060",
   "metadata": {},
   "outputs": [
    {
     "name": "stdout",
     "output_type": "stream",
     "text": [
      "   ACTUAL  PREDICTED\n",
      "0      20  16.884145\n",
      "1      27  33.732261\n",
      "2      69  75.357018\n",
      "3      30  26.794801\n",
      "4      62  60.491033\n"
     ]
    }
   ],
   "source": [
    "Y_pred=regressor.predict(X_test) #predicts values for the chosen test values correspionding to the line of best fit\n",
    "df=pd.DataFrame({\"ACTUAL\":Y_test, \"PREDICTED\":Y_pred}) #creates dataframe to compare the actual and predicted values\n",
    "print(df) #displays the dataframe table"
   ]
  },
  {
   "cell_type": "markdown",
   "id": "28b16093",
   "metadata": {},
   "source": [
    "8) Finding the mean absolute error in the predicted values"
   ]
  },
  {
   "cell_type": "code",
   "execution_count": 35,
   "id": "6f99abfc",
   "metadata": {},
   "outputs": [
    {
     "name": "stdout",
     "output_type": "stream",
     "text": [
      "Mean Absolute Error: 4.183859899002975\n"
     ]
    }
   ],
   "source": [
    "from sklearn.metrics import mean_absolute_error #importing the function to find mean absolute error\n",
    "print(\"Mean Absolute Error:\", mean_absolute_error(Y_test, Y_pred)) #using the function to find the mean absolute error in our predictions"
   ]
  },
  {
   "cell_type": "markdown",
   "id": "5caeea43",
   "metadata": {},
   "source": [
    "9) Using the line of best fit to predict the scores for user-inputted values"
   ]
  },
  {
   "cell_type": "code",
   "execution_count": 36,
   "id": "0d7619e3",
   "metadata": {},
   "outputs": [
    {
     "name": "stdout",
     "output_type": "stream",
     "text": [
      "Shape of entered array: (1, 10)\n",
      "Shape of reshaped array: (10, 1)\n",
      "Shape of array reshaped again: (10,)\n",
      "   No. of Hours  Predicted Score\n",
      "0           0.5         6.973488\n",
      "1           1.0        11.928817\n",
      "2           1.5        16.884145\n",
      "3           2.0        21.839473\n",
      "4           2.5        26.794801\n",
      "5           3.0        31.750129\n",
      "6           3.5        36.705458\n",
      "7           4.0        41.660786\n",
      "8           4.5        46.616114\n",
      "9           5.0        51.571442\n"
     ]
    }
   ],
   "source": [
    "hrs_inp=np.array([list(map(float, input(\"Enter the number of hours (can be multiple inputs):\\n\").split()))]) #taking user inputs for number of hours\n",
    "print(\"Shape of entered array:\", hrs_inp.shape) #displaying dimensions of input variable\n",
    "hrs_inp=hrs_inp.reshape(-1,1) #reshaping the array to make it in the required 2D form for prediction\n",
    "print(\"Shape of reshaped array:\", hrs_inp.shape) #displays dimensions of reshaped array\n",
    "pred=regressor.predict(hrs_inp) #stores predicted values corresponding to input given\n",
    "hrs_inp=hrs_inp.reshape(-1) #reshaping the array again to store it in dataframe\n",
    "print(\"Shape of array reshaped again:\", hrs_inp.shape) #displays dimensions of reshaped array\n",
    "df2=pd.DataFrame({\"No. of Hours\":hrs_inp, \"Predicted Score\":pred}) #making dataframe consisting of input values and corresponding predictions\n",
    "print(df2) #printing dataframe table"
   ]
  }
 ],
 "metadata": {
  "kernelspec": {
   "display_name": "Python 3",
   "language": "python",
   "name": "python3"
  },
  "language_info": {
   "codemirror_mode": {
    "name": "ipython",
    "version": 3
   },
   "file_extension": ".py",
   "mimetype": "text/x-python",
   "name": "python",
   "nbconvert_exporter": "python",
   "pygments_lexer": "ipython3",
   "version": "3.8.8"
  }
 },
 "nbformat": 4,
 "nbformat_minor": 5
}
